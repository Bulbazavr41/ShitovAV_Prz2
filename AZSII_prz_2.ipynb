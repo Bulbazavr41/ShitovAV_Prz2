{
  "cells": [
    {
      "cell_type": "markdown",
      "source": [
        " Скопировать проект по ссылке в локальную среду выполнения Jupyter (Google Colab) EEL6812_DeepFool_Project"
      ],
      "metadata": {
        "collapsed": false,
        "id": "Ej128EmmSPtT"
      }
    },
    {
      "cell_type": "code",
      "execution_count": 1,
      "outputs": [
        {
          "output_type": "stream",
          "name": "stdout",
          "text": [
            "Cloning into 'EEL6812_DeepFool_Project'...\n",
            "remote: Enumerating objects: 96, done.\u001b[K\n",
            "remote: Counting objects: 100% (3/3), done.\u001b[K\n",
            "remote: Compressing objects: 100% (2/2), done.\u001b[K\n",
            "remote: Total 96 (delta 2), reused 1 (delta 1), pack-reused 93\u001b[K\n",
            "Receiving objects: 100% (96/96), 33.99 MiB | 30.32 MiB/s, done.\n",
            "Resolving deltas: 100% (27/27), done.\n"
          ]
        }
      ],
      "source": [
        "!git clone https://github.com/ewatson2/EEL6812_DeepFool_Project.git"
      ],
      "metadata": {
        "is_executing": true,
        "colab": {
          "base_uri": "https://localhost:8080/"
        },
        "id": "qfMH6R6USPtX",
        "outputId": "f21d0681-3ca1-4bdf-c8ad-9ac9943e82a8"
      }
    },
    {
      "cell_type": "markdown",
      "source": [
        "Сменить директорию исполнения на вновь созданную папку \"EEL6812_DeepFool_Project\"\n",
        "проекта."
      ],
      "metadata": {
        "collapsed": false,
        "id": "cX94brg_SPtZ"
      }
    },
    {
      "cell_type": "code",
      "execution_count": 9,
      "outputs": [
        {
          "output_type": "stream",
          "name": "stdout",
          "text": [
            "[Errno 2] No such file or directory: './EEL6812_DeepFool_Project'\n",
            "/content/EEL6812_DeepFool_Project\n"
          ]
        }
      ],
      "source": [
        "%cd ./EEL6812_DeepFool_Project"
      ],
      "metadata": {
        "ExecuteTime": {
          "end_time": "2023-10-16T15:33:22.469491400Z",
          "start_time": "2023-10-16T15:33:22.448498400Z"
        },
        "colab": {
          "base_uri": "https://localhost:8080/"
        },
        "id": "cG_8gBWkSPta",
        "outputId": "8b262997-2874-449e-dda9-0e2530ab91e6"
      }
    },
    {
      "cell_type": "markdown",
      "source": [
        "Выполнить импорт библиотек"
      ],
      "metadata": {
        "collapsed": false,
        "id": "FK3vWADQSPtb"
      }
    },
    {
      "cell_type": "code",
      "execution_count": 10,
      "outputs": [],
      "source": [
        "import numpy as np\n",
        "import json, torch\n",
        "from torch.utils.data import DataLoader, random_split\n",
        "from torchvision  import datasets, models\n",
        "from torchvision.transforms import transforms"
      ],
      "metadata": {
        "ExecuteTime": {
          "end_time": "2023-10-16T15:35:13.794505200Z",
          "start_time": "2023-10-16T15:35:10.671658200Z"
        },
        "id": "oYft8-nOSPtb"
      }
    },
    {
      "cell_type": "markdown",
      "source": [
        "Выполним импорт вспомогательных библиотек из локальных файлов проекта:"
      ],
      "metadata": {
        "collapsed": false,
        "id": "VOZBzzpFSPtc"
      }
    },
    {
      "cell_type": "code",
      "execution_count": 11,
      "outputs": [],
      "source": [
        "from models.project_models import FC_500_150, LeNet_CIFAR, LeNet_MNIST, Net\n",
        "from utils.project_utils import get_clip_bounds, evaluate_attack, display_attack"
      ],
      "metadata": {
        "ExecuteTime": {
          "end_time": "2023-10-16T15:45:46.855105Z",
          "start_time": "2023-10-16T15:45:46.306713200Z"
        },
        "id": "OahMD3NASPtd"
      }
    },
    {
      "cell_type": "markdown",
      "source": [
        "Установим случайное рандомное значение в виде переменной rand_seed={\"Порядковый номер ученика группы в Гугл-таблице\"}, укажем значение для np.random.seed и torch.manual_seed\n",
        "Установить указанное значение для np.random.seed и torch.manual_seed\n",
        "Использовать в качестсве устройства видеокарту (Среды выполнения--> Сменить среду выполнения --> T4 GPU)"
      ],
      "metadata": {
        "collapsed": false,
        "id": "C92n3D0bSPtd"
      }
    },
    {
      "cell_type": "code",
      "execution_count": 12,
      "outputs": [],
      "source": [
        "rand_seed = 30\n",
        "np.random.seed(rand_seed)\n",
        "torch.manual_seed(rand_seed)\n",
        "\n",
        "use_cuda = torch.cuda.is_available()\n",
        "device = torch.device('cuda' if use_cuda else 'cpu')"
      ],
      "metadata": {
        "ExecuteTime": {
          "end_time": "2023-10-16T15:51:01.032683600Z",
          "start_time": "2023-10-16T15:51:01.011690600Z"
        },
        "id": "PmLjH_AMSPte"
      }
    },
    {
      "cell_type": "markdown",
      "source": [
        "Загрузить датасет MNIST c параметрами mnist_mean = 0.5, mnist_std = 0.5, mnist_dim = 28"
      ],
      "metadata": {
        "collapsed": false,
        "id": "LKq0JJSjSPte"
      }
    },
    {
      "cell_type": "code",
      "execution_count": 13,
      "outputs": [],
      "source": [
        "mnist_mean = 0.5\n",
        "mnist_std = 0.5\n",
        "mnist_dim = 28\n",
        "\n",
        "mnist_min, mnist_max = get_clip_bounds(mnist_mean,\n",
        "                                       mnist_std,\n",
        "                                       mnist_dim)\n",
        "mnist_min = mnist_min.to(device)\n",
        "mnist_max = mnist_max.to(device)\n",
        "\n",
        "mnist_tf = transforms.Compose([\n",
        "    transforms.ToTensor(),\n",
        "    transforms.Normalize(\n",
        "        mean=mnist_mean,\n",
        "        std=mnist_std)])\n",
        "\n",
        "mnist_tf_train = transforms.Compose([\n",
        "    transforms.RandomHorizontalFlip(),\n",
        "    transforms.ToTensor(),\n",
        "    transforms.Normalize(\n",
        "        mean=mnist_mean,\n",
        "        std=mnist_std)])\n",
        "\n",
        "mnist_tf_inv = transforms.Compose([\n",
        "    transforms.Normalize(\n",
        "        mean=0.0,\n",
        "        std=np.divide(1.0, mnist_std)),\n",
        "    transforms.Normalize(\n",
        "        mean=np.multiply(-1.0, mnist_std),\n",
        "        std=1.0)])\n",
        "\n",
        "mnist_temp = datasets.MNIST(root='datasets/mnist', train=True,\n",
        "                            download=True, transform=mnist_tf_train)\n",
        "mnist_train, mnist_val = random_split(mnist_temp, [50000, 10000])\n",
        "\n",
        "mnist_test = datasets.MNIST(root='datasets/mnist', train=False,\n",
        "                            download=True, transform=mnist_tf)\n",
        "\n",
        "cifar_classes = ['airplane', 'automobile', 'bird', 'cat', 'deer',\n",
        "                 'dog', 'frog', 'horse', 'ship', 'truck']"
      ],
      "metadata": {
        "is_executing": true,
        "ExecuteTime": {
          "start_time": "2023-10-16T15:51:34.986286700Z"
        },
        "id": "sNNefq6pSPte"
      }
    },
    {
      "cell_type": "markdown",
      "source": [
        "Загрузить датасет CIFAR-10 c параметрами\n",
        "cifar_mean = [0.491, 0.482, 0.447]\n",
        "\n",
        "cifar_std = [0.202,0.199, 0.201]\n",
        "\n",
        "cifar_dim = 32"
      ],
      "metadata": {
        "collapsed": false,
        "id": "9XpZntAxSPtf"
      }
    },
    {
      "cell_type": "code",
      "execution_count": 14,
      "outputs": [
        {
          "output_type": "stream",
          "name": "stdout",
          "text": [
            "Downloading https://www.cs.toronto.edu/~kriz/cifar-10-python.tar.gz to datasets/cifar-10/cifar-10-python.tar.gz\n"
          ]
        },
        {
          "output_type": "stream",
          "name": "stderr",
          "text": [
            "100%|██████████| 170498071/170498071 [00:02<00:00, 77500843.28it/s]\n"
          ]
        },
        {
          "output_type": "stream",
          "name": "stdout",
          "text": [
            "Extracting datasets/cifar-10/cifar-10-python.tar.gz to datasets/cifar-10\n",
            "Files already downloaded and verified\n"
          ]
        }
      ],
      "source": [
        "cifar_mean = [0.491, 0.482, 0.447]\n",
        "cifar_std = [0.202, 0.199, 0.201]\n",
        "cifar_dim = 32\n",
        "\n",
        "cifar_min, cifar_max = get_clip_bounds(cifar_mean,\n",
        "                                       cifar_std,\n",
        "                                       cifar_dim)\n",
        "cifar_min = cifar_min.to(device)\n",
        "cifar_max = cifar_max.to(device)\n",
        "\n",
        "cifar_tf = transforms.Compose([\n",
        "    transforms.ToTensor(),\n",
        "    transforms.Normalize(\n",
        "        mean=cifar_mean,\n",
        "        std=cifar_std)])\n",
        "\n",
        "cifar_tf_train = transforms.Compose([\n",
        "    transforms.RandomCrop(\n",
        "        size=cifar_dim,\n",
        "        padding=4),\n",
        "    transforms.RandomHorizontalFlip(),\n",
        "    transforms.ToTensor(),\n",
        "    transforms.Normalize(\n",
        "        mean=cifar_mean,\n",
        "        std=cifar_std)])\n",
        "\n",
        "cifar_tf_inv = transforms.Compose([\n",
        "    transforms.Normalize(\n",
        "        mean=[0.0, 0.0, 0.0],\n",
        "        std=np.divide(1.0, cifar_std)),\n",
        "    transforms.Normalize(\n",
        "        mean=np.multiply(-1.0, cifar_mean),\n",
        "        std=[1.0, 1.0, 1.0])])\n",
        "\n",
        "cifar_temp = datasets.CIFAR10(root='datasets/cifar-10', train=True,\n",
        "                              download=True, transform=cifar_tf_train)\n",
        "cifar_train, cifar_val = random_split(cifar_temp, [40000, 10000])\n",
        "\n",
        "cifar_test = datasets.CIFAR10(root='datasets/cifar-10', train=False,\n",
        "                              download=True, transform=cifar_tf)"
      ],
      "metadata": {
        "is_executing": true,
        "colab": {
          "base_uri": "https://localhost:8080/"
        },
        "id": "Q3ybzbPESPtf",
        "outputId": "afe4f554-6a99-4437-c71d-3a32096b0225"
      }
    },
    {
      "cell_type": "markdown",
      "source": [
        "Выполнить настройку и загрузку DataLoader\n",
        "batch_size = 64\n",
        "workers = 4"
      ],
      "metadata": {
        "collapsed": false,
        "id": "0ZUjIic1SPtg"
      }
    },
    {
      "cell_type": "code",
      "execution_count": 15,
      "outputs": [
        {
          "output_type": "stream",
          "name": "stderr",
          "text": [
            "/usr/local/lib/python3.10/dist-packages/torch/utils/data/dataloader.py:560: UserWarning: This DataLoader will create 4 worker processes in total. Our suggested max number of worker in current system is 2, which is smaller than what this DataLoader is going to create. Please be aware that excessive worker creation might get DataLoader running slow or even freeze, lower the worker number to avoid potential slowness/freeze if necessary.\n",
            "  warnings.warn(_create_warning_msg(\n"
          ]
        }
      ],
      "source": [
        "batch_size = 64\n",
        "workers = 4\n",
        "\n",
        "mnist_loader_train = DataLoader(mnist_train, batch_size=batch_size, shuffle=True, num_workers=workers)\n",
        "mnist_loader_val = DataLoader(mnist_val, batch_size=batch_size, shuffle=False, num_workers=workers)\n",
        "mnist_loader_test = DataLoader(mnist_test, batch_size=batch_size, shuffle=False, num_workers=workers)\n",
        "\n",
        "cifar_loader_train = DataLoader(cifar_train, batch_size=batch_size, shuffle=True, num_workers=workers)\n",
        "cifar_loader_val = DataLoader(cifar_val, batch_size=batch_size, shuffle=False, num_workers=workers)\n",
        "cifar_loader_test = DataLoader(cifar_test, batch_size=batch_size, shuffle=False, num_workers=workers)"
      ],
      "metadata": {
        "is_executing": true,
        "colab": {
          "base_uri": "https://localhost:8080/"
        },
        "id": "78MqepDzSPtg",
        "outputId": "8310de16-3dcb-4554-b096-499e55ee0a3d"
      }
    },
    {
      "cell_type": "code",
      "execution_count": 17,
      "outputs": [],
      "source": [
        "batch_size = 10\n",
        "num_classes = 10\n",
        "overshoot = 0.02\n",
        "max_iters = 50\n",
        "deep_args = [batch_size, num_classes, overshoot, max_iters]"
      ],
      "metadata": {
        "is_executing": true,
        "id": "Pt3BST8JSPtg"
      }
    },
    {
      "cell_type": "markdown",
      "source": [
        "Загрузить и оценить стойкость модели LeNet к FGSM и DeepFool атакам"
      ],
      "metadata": {
        "collapsed": false,
        "id": "977Oi6yoSPtg"
      }
    },
    {
      "cell_type": "code",
      "execution_count": 18,
      "outputs": [
        {
          "output_type": "stream",
          "name": "stdout",
          "text": [
            "FGSM Test Error : 87.89%\n",
            "FGSM Robustness : 4.58e-01\n",
            "FGSM Time (All Images) : 0.29 s\n",
            "FGSM Time (Per Image) : 28.86 us\n",
            "\n",
            "DeepFool Test Error : 98.74%\n",
            "DeepFool Robustness : 9.64e-02\n",
            "DeepFool Time (All Images) : 193.32 s\n",
            "DeepFool Time (Per Image) : 19.33 ms\n"
          ]
        }
      ],
      "source": [
        "fgsm_eps = 0.6\n",
        "model = LeNet_MNIST().to(device)\n",
        "model.load_state_dict(torch.load('weights/clean/mnist_lenet.pth', map_location=torch.device('cpu')))\n",
        "\n",
        "evaluate_attack('mnist_lenet_fgsm.csv', 'results', device, model, mnist_loader_test, mnist_min, mnist_max, fgsm_eps, is_fgsm=True)\n",
        "print('')\n",
        "evaluate_attack('mnist_lenet_deepfool.csv', 'results', device, model, mnist_loader_test, mnist_min, mnist_max, deep_args, is_fgsm=False)\n",
        "\n",
        "if device.type == 'cuda': torch.cuda.empty_cache()"
      ],
      "metadata": {
        "is_executing": true,
        "colab": {
          "base_uri": "https://localhost:8080/"
        },
        "id": "2a4hy1CXSPth",
        "outputId": "f120f2cd-d2e4-41b6-f027-5b335aece89b"
      }
    },
    {
      "cell_type": "markdown",
      "source": [
        "Загрузить и оценить стойкость модели FC к FGSM и DeepFool атакам"
      ],
      "metadata": {
        "collapsed": false,
        "id": "O9fa3W3uSPth"
      }
    },
    {
      "cell_type": "code",
      "execution_count": 19,
      "outputs": [
        {
          "output_type": "stream",
          "name": "stdout",
          "text": [
            "FGSM Test Error : 87.08%\n",
            "FGSM Robustness : 1.56e-01\n",
            "FGSM Time (All Images) : 0.15 s\n",
            "FGSM Time (Per Image) : 14.99 us\n",
            "\n",
            "DeepFool Test Error : 97.92%\n",
            "DeepFool Robustness : 6.78e-02\n",
            "DeepFool Time (All Images) : 141.81 s\n",
            "DeepFool Time (Per Image) : 14.18 ms\n"
          ]
        }
      ],
      "source": [
        "fgsm_eps = 0.2\n",
        "model = FC_500_150().to(device)\n",
        "model.load_state_dict(torch.load('weights/clean/mnist_fc.pth', map_location=torch.device('cpu')))\n",
        "\n",
        "evaluate_attack('mnist_fc_fgsm.csv', 'results', device, model, mnist_loader_test, mnist_min, mnist_max, fgsm_eps, is_fgsm=True)\n",
        "print('')\n",
        "evaluate_attack('mnist_fc_deepfool.csv', 'results', device, model, mnist_loader_test, mnist_min, mnist_max, deep_args, is_fgsm=False)\n",
        "\n",
        "if device.type == 'cuda': torch.cuda.empty_cache()"
      ],
      "metadata": {
        "is_executing": true,
        "colab": {
          "base_uri": "https://localhost:8080/"
        },
        "id": "Y58PbB4RSPth",
        "outputId": "af81b522-4657-44e4-f518-f1f9dc0c257f"
      }
    },
    {
      "cell_type": "code",
      "execution_count": null,
      "outputs": [],
      "source": [],
      "metadata": {
        "id": "cGVJ5gPnSPth"
      }
    }
  ],
  "metadata": {
    "kernelspec": {
      "display_name": "Python 3",
      "language": "python",
      "name": "python3"
    },
    "language_info": {
      "codemirror_mode": {
        "name": "ipython",
        "version": 2
      },
      "file_extension": ".py",
      "mimetype": "text/x-python",
      "name": "python",
      "nbconvert_exporter": "python",
      "pygments_lexer": "ipython2",
      "version": "2.7.6"
    },
    "colab": {
      "provenance": [],
      "toc_visible": true
    }
  },
  "nbformat": 4,
  "nbformat_minor": 0
}